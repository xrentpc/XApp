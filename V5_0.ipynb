{
  "nbformat": 4,
  "nbformat_minor": 0,
  "metadata": {
    "colab": {
      "provenance": [],
      "machine_shape": "hm",
      "gpuType": "T4",
      "authorship_tag": "ABX9TyO9QkC6LO3THdraT/Ob7t1y",
      "include_colab_link": true
    },
    "kernelspec": {
      "name": "python3",
      "display_name": "Python 3"
    },
    "language_info": {
      "name": "python"
    },
    "accelerator": "GPU"
  },
  "cells": [
    {
      "cell_type": "markdown",
      "metadata": {
        "id": "view-in-github",
        "colab_type": "text"
      },
      "source": [
        "<a href=\"https://colab.research.google.com/github/xrentpc/XApp/blob/main/V5_0.ipynb\" target=\"_parent\"><img src=\"https://colab.research.google.com/assets/colab-badge.svg\" alt=\"Open In Colab\"/></a>"
      ]
    },
    {
      "cell_type": "code",
      "execution_count": null,
      "metadata": {
        "colab": {
          "base_uri": "https://localhost:8080/"
        },
        "id": "WQPzQfzV_e7c",
        "outputId": "67ea6b91-c815-40a1-e242-545382a646eb"
      },
      "outputs": [
        {
          "output_type": "stream",
          "name": "stdout",
          "text": [
            "Cloning into 'ComfyUI'...\n",
            "remote: Enumerating objects: 22675, done.\u001b[K\n",
            "remote: Counting objects: 100% (74/74), done.\u001b[K\n",
            "remote: Compressing objects: 100% (44/44), done.\u001b[K\n",
            "remote: Total 22675 (delta 51), reused 30 (delta 30), pack-reused 22601 (from 3)\u001b[K\n",
            "Receiving objects: 100% (22675/22675), 71.85 MiB | 29.73 MiB/s, done.\n",
            "Resolving deltas: 100% (15168/15168), done.\n",
            "/content/ComfyUI\n",
            "Requirement already satisfied: comfyui-frontend-package==1.23.4 in /usr/local/lib/python3.11/dist-packages (from -r requirements.txt (line 1)) (1.23.4)\n",
            "Requirement already satisfied: comfyui-workflow-templates==0.1.47 in /usr/local/lib/python3.11/dist-packages (from -r requirements.txt (line 2)) (0.1.47)\n",
            "Requirement already satisfied: comfyui-embedded-docs==0.2.4 in /usr/local/lib/python3.11/dist-packages (from -r requirements.txt (line 3)) (0.2.4)\n",
            "Requirement already satisfied: torch in /usr/local/lib/python3.11/dist-packages (from -r requirements.txt (line 4)) (2.6.0+cu124)\n",
            "Requirement already satisfied: torchsde in /usr/local/lib/python3.11/dist-packages (from -r requirements.txt (line 5)) (0.2.6)\n",
            "Requirement already satisfied: torchvision in /usr/local/lib/python3.11/dist-packages (from -r requirements.txt (line 6)) (0.21.0+cu124)\n",
            "Requirement already satisfied: torchaudio in /usr/local/lib/python3.11/dist-packages (from -r requirements.txt (line 7)) (2.6.0+cu124)\n",
            "Requirement already satisfied: numpy>=1.25.0 in /usr/local/lib/python3.11/dist-packages (from -r requirements.txt (line 8)) (2.0.2)\n",
            "Requirement already satisfied: einops in /usr/local/lib/python3.11/dist-packages (from -r requirements.txt (line 9)) (0.8.1)\n",
            "Requirement already satisfied: transformers>=4.37.2 in /usr/local/lib/python3.11/dist-packages (from -r requirements.txt (line 10)) (4.54.0)\n",
            "Requirement already satisfied: tokenizers>=0.13.3 in /usr/local/lib/python3.11/dist-packages (from -r requirements.txt (line 11)) (0.21.2)\n",
            "Requirement already satisfied: sentencepiece in /usr/local/lib/python3.11/dist-packages (from -r requirements.txt (line 12)) (0.2.0)\n",
            "Requirement already satisfied: safetensors>=0.4.2 in /usr/local/lib/python3.11/dist-packages (from -r requirements.txt (line 13)) (0.5.3)\n",
            "Requirement already satisfied: aiohttp>=3.11.8 in /usr/local/lib/python3.11/dist-packages (from -r requirements.txt (line 14)) (3.12.14)\n",
            "Requirement already satisfied: yarl>=1.18.0 in /usr/local/lib/python3.11/dist-packages (from -r requirements.txt (line 15)) (1.20.1)\n",
            "Requirement already satisfied: pyyaml in /usr/local/lib/python3.11/dist-packages (from -r requirements.txt (line 16)) (6.0.2)\n",
            "Requirement already satisfied: Pillow in /usr/local/lib/python3.11/dist-packages (from -r requirements.txt (line 17)) (11.3.0)\n",
            "Requirement already satisfied: scipy in /usr/local/lib/python3.11/dist-packages (from -r requirements.txt (line 18)) (1.16.0)\n",
            "Requirement already satisfied: tqdm in /usr/local/lib/python3.11/dist-packages (from -r requirements.txt (line 19)) (4.67.1)\n",
            "Requirement already satisfied: psutil in /usr/local/lib/python3.11/dist-packages (from -r requirements.txt (line 20)) (5.9.5)\n",
            "Requirement already satisfied: alembic in /usr/local/lib/python3.11/dist-packages (from -r requirements.txt (line 21)) (1.16.4)\n",
            "Requirement already satisfied: SQLAlchemy in /usr/local/lib/python3.11/dist-packages (from -r requirements.txt (line 22)) (2.0.41)\n",
            "Requirement already satisfied: kornia>=0.7.1 in /usr/local/lib/python3.11/dist-packages (from -r requirements.txt (line 25)) (0.8.1)\n",
            "Requirement already satisfied: spandrel in /usr/local/lib/python3.11/dist-packages (from -r requirements.txt (line 26)) (0.4.1)\n",
            "Requirement already satisfied: soundfile in /usr/local/lib/python3.11/dist-packages (from -r requirements.txt (line 27)) (0.13.1)\n",
            "Requirement already satisfied: av>=14.2.0 in /usr/local/lib/python3.11/dist-packages (from -r requirements.txt (line 28)) (15.0.0)\n",
            "Requirement already satisfied: pydantic~=2.0 in /usr/local/lib/python3.11/dist-packages (from -r requirements.txt (line 29)) (2.11.7)\n",
            "Requirement already satisfied: pydantic-settings~=2.0 in /usr/local/lib/python3.11/dist-packages (from -r requirements.txt (line 30)) (2.10.1)\n",
            "Requirement already satisfied: filelock in /usr/local/lib/python3.11/dist-packages (from torch->-r requirements.txt (line 4)) (3.18.0)\n",
            "Requirement already satisfied: typing-extensions>=4.10.0 in /usr/local/lib/python3.11/dist-packages (from torch->-r requirements.txt (line 4)) (4.14.1)\n",
            "Requirement already satisfied: networkx in /usr/local/lib/python3.11/dist-packages (from torch->-r requirements.txt (line 4)) (3.5)\n",
            "Requirement already satisfied: jinja2 in /usr/local/lib/python3.11/dist-packages (from torch->-r requirements.txt (line 4)) (3.1.6)\n",
            "Requirement already satisfied: fsspec in /usr/local/lib/python3.11/dist-packages (from torch->-r requirements.txt (line 4)) (2025.3.0)\n",
            "Requirement already satisfied: nvidia-cuda-nvrtc-cu12==12.4.127 in /usr/local/lib/python3.11/dist-packages (from torch->-r requirements.txt (line 4)) (12.4.127)\n",
            "Requirement already satisfied: nvidia-cuda-runtime-cu12==12.4.127 in /usr/local/lib/python3.11/dist-packages (from torch->-r requirements.txt (line 4)) (12.4.127)\n",
            "Requirement already satisfied: nvidia-cuda-cupti-cu12==12.4.127 in /usr/local/lib/python3.11/dist-packages (from torch->-r requirements.txt (line 4)) (12.4.127)\n",
            "Requirement already satisfied: nvidia-cudnn-cu12==9.1.0.70 in /usr/local/lib/python3.11/dist-packages (from torch->-r requirements.txt (line 4)) (9.1.0.70)\n",
            "Requirement already satisfied: nvidia-cublas-cu12==12.4.5.8 in /usr/local/lib/python3.11/dist-packages (from torch->-r requirements.txt (line 4)) (12.4.5.8)\n",
            "Requirement already satisfied: nvidia-cufft-cu12==11.2.1.3 in /usr/local/lib/python3.11/dist-packages (from torch->-r requirements.txt (line 4)) (11.2.1.3)\n",
            "Requirement already satisfied: nvidia-curand-cu12==10.3.5.147 in /usr/local/lib/python3.11/dist-packages (from torch->-r requirements.txt (line 4)) (10.3.5.147)\n",
            "Requirement already satisfied: nvidia-cusolver-cu12==11.6.1.9 in /usr/local/lib/python3.11/dist-packages (from torch->-r requirements.txt (line 4)) (11.6.1.9)\n",
            "Requirement already satisfied: nvidia-cusparse-cu12==12.3.1.170 in /usr/local/lib/python3.11/dist-packages (from torch->-r requirements.txt (line 4)) (12.3.1.170)\n",
            "Requirement already satisfied: nvidia-cusparselt-cu12==0.6.2 in /usr/local/lib/python3.11/dist-packages (from torch->-r requirements.txt (line 4)) (0.6.2)\n",
            "Requirement already satisfied: nvidia-nccl-cu12==2.21.5 in /usr/local/lib/python3.11/dist-packages (from torch->-r requirements.txt (line 4)) (2.21.5)\n",
            "Requirement already satisfied: nvidia-nvtx-cu12==12.4.127 in /usr/local/lib/python3.11/dist-packages (from torch->-r requirements.txt (line 4)) (12.4.127)\n",
            "Requirement already satisfied: nvidia-nvjitlink-cu12==12.4.127 in /usr/local/lib/python3.11/dist-packages (from torch->-r requirements.txt (line 4)) (12.4.127)\n",
            "Requirement already satisfied: triton==3.2.0 in /usr/local/lib/python3.11/dist-packages (from torch->-r requirements.txt (line 4)) (3.2.0)\n",
            "Requirement already satisfied: sympy==1.13.1 in /usr/local/lib/python3.11/dist-packages (from torch->-r requirements.txt (line 4)) (1.13.1)\n",
            "Requirement already satisfied: mpmath<1.4,>=1.1.0 in /usr/local/lib/python3.11/dist-packages (from sympy==1.13.1->torch->-r requirements.txt (line 4)) (1.3.0)\n",
            "Requirement already satisfied: trampoline>=0.1.2 in /usr/local/lib/python3.11/dist-packages (from torchsde->-r requirements.txt (line 5)) (0.1.2)\n",
            "Requirement already satisfied: huggingface-hub<1.0,>=0.34.0 in /usr/local/lib/python3.11/dist-packages (from transformers>=4.37.2->-r requirements.txt (line 10)) (0.34.1)\n",
            "Requirement already satisfied: packaging>=20.0 in /usr/local/lib/python3.11/dist-packages (from transformers>=4.37.2->-r requirements.txt (line 10)) (25.0)\n",
            "Requirement already satisfied: regex!=2019.12.17 in /usr/local/lib/python3.11/dist-packages (from transformers>=4.37.2->-r requirements.txt (line 10)) (2024.11.6)\n",
            "Requirement already satisfied: requests in /usr/local/lib/python3.11/dist-packages (from transformers>=4.37.2->-r requirements.txt (line 10)) (2.32.3)\n",
            "Requirement already satisfied: aiohappyeyeballs>=2.5.0 in /usr/local/lib/python3.11/dist-packages (from aiohttp>=3.11.8->-r requirements.txt (line 14)) (2.6.1)\n",
            "Requirement already satisfied: aiosignal>=1.4.0 in /usr/local/lib/python3.11/dist-packages (from aiohttp>=3.11.8->-r requirements.txt (line 14)) (1.4.0)\n",
            "Requirement already satisfied: attrs>=17.3.0 in /usr/local/lib/python3.11/dist-packages (from aiohttp>=3.11.8->-r requirements.txt (line 14)) (25.3.0)\n",
            "Requirement already satisfied: frozenlist>=1.1.1 in /usr/local/lib/python3.11/dist-packages (from aiohttp>=3.11.8->-r requirements.txt (line 14)) (1.7.0)\n",
            "Requirement already satisfied: multidict<7.0,>=4.5 in /usr/local/lib/python3.11/dist-packages (from aiohttp>=3.11.8->-r requirements.txt (line 14)) (6.6.3)\n",
            "Requirement already satisfied: propcache>=0.2.0 in /usr/local/lib/python3.11/dist-packages (from aiohttp>=3.11.8->-r requirements.txt (line 14)) (0.3.2)\n",
            "Requirement already satisfied: idna>=2.0 in /usr/local/lib/python3.11/dist-packages (from yarl>=1.18.0->-r requirements.txt (line 15)) (3.10)\n",
            "Requirement already satisfied: Mako in /usr/lib/python3/dist-packages (from alembic->-r requirements.txt (line 21)) (1.1.3)\n",
            "Requirement already satisfied: greenlet>=1 in /usr/local/lib/python3.11/dist-packages (from SQLAlchemy->-r requirements.txt (line 22)) (3.2.3)\n",
            "Requirement already satisfied: kornia_rs>=0.1.9 in /usr/local/lib/python3.11/dist-packages (from kornia>=0.7.1->-r requirements.txt (line 25)) (0.1.9)\n",
            "Requirement already satisfied: cffi>=1.0 in /usr/local/lib/python3.11/dist-packages (from soundfile->-r requirements.txt (line 27)) (1.17.1)\n",
            "Requirement already satisfied: annotated-types>=0.6.0 in /usr/local/lib/python3.11/dist-packages (from pydantic~=2.0->-r requirements.txt (line 29)) (0.7.0)\n",
            "Requirement already satisfied: pydantic-core==2.33.2 in /usr/local/lib/python3.11/dist-packages (from pydantic~=2.0->-r requirements.txt (line 29)) (2.33.2)\n",
            "Requirement already satisfied: typing-inspection>=0.4.0 in /usr/local/lib/python3.11/dist-packages (from pydantic~=2.0->-r requirements.txt (line 29)) (0.4.1)\n",
            "Requirement already satisfied: python-dotenv>=0.21.0 in /usr/local/lib/python3.11/dist-packages (from pydantic-settings~=2.0->-r requirements.txt (line 30)) (1.1.1)\n",
            "Requirement already satisfied: pycparser in /usr/local/lib/python3.11/dist-packages (from cffi>=1.0->soundfile->-r requirements.txt (line 27)) (2.22)\n",
            "Requirement already satisfied: hf-xet<2.0.0,>=1.1.3 in /usr/local/lib/python3.11/dist-packages (from huggingface-hub<1.0,>=0.34.0->transformers>=4.37.2->-r requirements.txt (line 10)) (1.1.5)\n",
            "Requirement already satisfied: MarkupSafe>=2.0 in /usr/local/lib/python3.11/dist-packages (from jinja2->torch->-r requirements.txt (line 4)) (3.0.2)\n",
            "Requirement already satisfied: charset-normalizer<4,>=2 in /usr/local/lib/python3.11/dist-packages (from requests->transformers>=4.37.2->-r requirements.txt (line 10)) (3.4.2)\n",
            "Requirement already satisfied: urllib3<3,>=1.21.1 in /usr/local/lib/python3.11/dist-packages (from requests->transformers>=4.37.2->-r requirements.txt (line 10)) (2.5.0)\n",
            "Requirement already satisfied: certifi>=2017.4.17 in /usr/local/lib/python3.11/dist-packages (from requests->transformers>=4.37.2->-r requirements.txt (line 10)) (2025.7.14)\n"
          ]
        }
      ],
      "source": [
        "# Установка системных пакетов\n",
        "!apt-get -y install -qq aria2 ffmpeg\n",
        "\n",
        "# Клонирование ComfyUI\n",
        "!rm -rf ComfyUI\n",
        "!git clone https://github.com/comfyanonymous/ComfyUI.git\n",
        "%cd ComfyUI\n",
        "\n",
        "# Установка Python-зависимостей\n",
        "!pip install -r requirements.txt"
      ]
    },
    {
      "cell_type": "code",
      "source": [
        "%cd /content/ComfyUI/custom_nodes\n",
        "!rm -rf ComfyUI_InstantID ComfyUI-VideoHelperSuite ComfyUI-Manager\n",
        "!git clone https://github.com/cubiq/ComfyUI_InstantID.git\n",
        "!git clone https://github.com/Kosinkadink/ComfyUI-VideoHelperSuite.git\n",
        "!git clone https://github.com/ltdrdata/ComfyUI-Manager.git"
      ],
      "metadata": {
        "colab": {
          "base_uri": "https://localhost:8080/"
        },
        "id": "QD5rwHt3_mO8",
        "outputId": "afab218a-ee91-48c2-e95d-b642f6ceac32"
      },
      "execution_count": null,
      "outputs": [
        {
          "output_type": "stream",
          "name": "stdout",
          "text": [
            "/content/ComfyUI/custom_nodes\n",
            "Cloning into 'ComfyUI_InstantID'...\n",
            "remote: Enumerating objects: 193, done.\u001b[K\n",
            "remote: Counting objects: 100% (40/40), done.\u001b[K\n",
            "remote: Compressing objects: 100% (18/18), done.\u001b[K\n",
            "remote: Total 193 (delta 26), reused 23 (delta 21), pack-reused 153 (from 2)\u001b[K\n",
            "Receiving objects: 100% (193/193), 1.62 MiB | 23.33 MiB/s, done.\n",
            "Resolving deltas: 100% (108/108), done.\n",
            "Cloning into 'ComfyUI-VideoHelperSuite'...\n",
            "remote: Enumerating objects: 3172, done.\u001b[K\n",
            "remote: Counting objects: 100% (1562/1562), done.\u001b[K\n",
            "remote: Compressing objects: 100% (370/370), done.\u001b[K\n",
            "remote: Total 3172 (delta 1362), reused 1245 (delta 1169), pack-reused 1610 (from 2)\u001b[K\n",
            "Receiving objects: 100% (3172/3172), 783.25 KiB | 15.67 MiB/s, done.\n",
            "Resolving deltas: 100% (1856/1856), done.\n",
            "Cloning into 'ComfyUI-Manager'...\n",
            "remote: Enumerating objects: 22886, done.\u001b[K\n",
            "remote: Counting objects: 100% (124/124), done.\u001b[K\n",
            "remote: Compressing objects: 100% (72/72), done.\u001b[K\n",
            "remote: Total 22886 (delta 88), reused 52 (delta 52), pack-reused 22762 (from 2)\u001b[K\n",
            "Receiving objects: 100% (22886/22886), 60.67 MiB | 40.10 MiB/s, done.\n",
            "Resolving deltas: 100% (16935/16935), done.\n"
          ]
        }
      ]
    },
    {
      "cell_type": "code",
      "source": [
        "!pip install insightface onnxruntime\n",
        "!pip install opencv-python scikit-image"
      ],
      "metadata": {
        "colab": {
          "base_uri": "https://localhost:8080/"
        },
        "id": "pXCZKzaA_s7R",
        "outputId": "df8f03df-f344-4e36-87d8-5332ec3ec3e4"
      },
      "execution_count": null,
      "outputs": [
        {
          "output_type": "stream",
          "name": "stdout",
          "text": [
            "Requirement already satisfied: insightface in /usr/local/lib/python3.11/dist-packages (0.7.3)\n",
            "Requirement already satisfied: onnxruntime in /usr/local/lib/python3.11/dist-packages (1.22.1)\n",
            "Requirement already satisfied: numpy in /usr/local/lib/python3.11/dist-packages (from insightface) (2.0.2)\n",
            "Requirement already satisfied: onnx in /usr/local/lib/python3.11/dist-packages (from insightface) (1.18.0)\n",
            "Requirement already satisfied: tqdm in /usr/local/lib/python3.11/dist-packages (from insightface) (4.67.1)\n",
            "Requirement already satisfied: requests in /usr/local/lib/python3.11/dist-packages (from insightface) (2.32.3)\n",
            "Requirement already satisfied: matplotlib in /usr/local/lib/python3.11/dist-packages (from insightface) (3.10.0)\n",
            "Requirement already satisfied: Pillow in /usr/local/lib/python3.11/dist-packages (from insightface) (11.3.0)\n",
            "Requirement already satisfied: scipy in /usr/local/lib/python3.11/dist-packages (from insightface) (1.16.0)\n",
            "Requirement already satisfied: scikit-learn in /usr/local/lib/python3.11/dist-packages (from insightface) (1.6.1)\n",
            "Requirement already satisfied: scikit-image in /usr/local/lib/python3.11/dist-packages (from insightface) (0.25.2)\n",
            "Requirement already satisfied: easydict in /usr/local/lib/python3.11/dist-packages (from insightface) (1.13)\n",
            "Requirement already satisfied: cython in /usr/local/lib/python3.11/dist-packages (from insightface) (3.0.12)\n",
            "Requirement already satisfied: albumentations in /usr/local/lib/python3.11/dist-packages (from insightface) (2.0.8)\n",
            "Requirement already satisfied: prettytable in /usr/local/lib/python3.11/dist-packages (from insightface) (3.16.0)\n",
            "Requirement already satisfied: coloredlogs in /usr/local/lib/python3.11/dist-packages (from onnxruntime) (15.0.1)\n",
            "Requirement already satisfied: flatbuffers in /usr/local/lib/python3.11/dist-packages (from onnxruntime) (25.2.10)\n",
            "Requirement already satisfied: packaging in /usr/local/lib/python3.11/dist-packages (from onnxruntime) (25.0)\n",
            "Requirement already satisfied: protobuf in /usr/local/lib/python3.11/dist-packages (from onnxruntime) (4.25.8)\n",
            "Requirement already satisfied: sympy in /usr/local/lib/python3.11/dist-packages (from onnxruntime) (1.13.1)\n",
            "Requirement already satisfied: PyYAML in /usr/local/lib/python3.11/dist-packages (from albumentations->insightface) (6.0.2)\n",
            "Requirement already satisfied: pydantic>=2.9.2 in /usr/local/lib/python3.11/dist-packages (from albumentations->insightface) (2.11.7)\n",
            "Requirement already satisfied: albucore==0.0.24 in /usr/local/lib/python3.11/dist-packages (from albumentations->insightface) (0.0.24)\n",
            "Requirement already satisfied: opencv-python-headless>=4.9.0.80 in /usr/local/lib/python3.11/dist-packages (from albumentations->insightface) (4.12.0.88)\n",
            "Requirement already satisfied: stringzilla>=3.10.4 in /usr/local/lib/python3.11/dist-packages (from albucore==0.0.24->albumentations->insightface) (3.12.5)\n",
            "Requirement already satisfied: simsimd>=5.9.2 in /usr/local/lib/python3.11/dist-packages (from albucore==0.0.24->albumentations->insightface) (6.5.0)\n",
            "Requirement already satisfied: humanfriendly>=9.1 in /usr/local/lib/python3.11/dist-packages (from coloredlogs->onnxruntime) (10.0)\n",
            "Requirement already satisfied: contourpy>=1.0.1 in /usr/local/lib/python3.11/dist-packages (from matplotlib->insightface) (1.3.2)\n",
            "Requirement already satisfied: cycler>=0.10 in /usr/local/lib/python3.11/dist-packages (from matplotlib->insightface) (0.12.1)\n",
            "Requirement already satisfied: fonttools>=4.22.0 in /usr/local/lib/python3.11/dist-packages (from matplotlib->insightface) (4.59.0)\n",
            "Requirement already satisfied: kiwisolver>=1.3.1 in /usr/local/lib/python3.11/dist-packages (from matplotlib->insightface) (1.4.8)\n",
            "Requirement already satisfied: pyparsing>=2.3.1 in /usr/local/lib/python3.11/dist-packages (from matplotlib->insightface) (3.2.3)\n",
            "Requirement already satisfied: python-dateutil>=2.7 in /usr/local/lib/python3.11/dist-packages (from matplotlib->insightface) (2.9.0.post0)\n",
            "Requirement already satisfied: typing_extensions>=4.7.1 in /usr/local/lib/python3.11/dist-packages (from onnx->insightface) (4.14.1)\n",
            "Requirement already satisfied: wcwidth in /usr/local/lib/python3.11/dist-packages (from prettytable->insightface) (0.2.13)\n",
            "Requirement already satisfied: charset-normalizer<4,>=2 in /usr/local/lib/python3.11/dist-packages (from requests->insightface) (3.4.2)\n",
            "Requirement already satisfied: idna<4,>=2.5 in /usr/local/lib/python3.11/dist-packages (from requests->insightface) (3.10)\n",
            "Requirement already satisfied: urllib3<3,>=1.21.1 in /usr/local/lib/python3.11/dist-packages (from requests->insightface) (2.5.0)\n",
            "Requirement already satisfied: certifi>=2017.4.17 in /usr/local/lib/python3.11/dist-packages (from requests->insightface) (2025.7.14)\n",
            "Requirement already satisfied: networkx>=3.0 in /usr/local/lib/python3.11/dist-packages (from scikit-image->insightface) (3.5)\n",
            "Requirement already satisfied: imageio!=2.35.0,>=2.33 in /usr/local/lib/python3.11/dist-packages (from scikit-image->insightface) (2.37.0)\n",
            "Requirement already satisfied: tifffile>=2022.8.12 in /usr/local/lib/python3.11/dist-packages (from scikit-image->insightface) (2025.6.11)\n",
            "Requirement already satisfied: lazy-loader>=0.4 in /usr/local/lib/python3.11/dist-packages (from scikit-image->insightface) (0.4)\n",
            "Requirement already satisfied: joblib>=1.2.0 in /usr/local/lib/python3.11/dist-packages (from scikit-learn->insightface) (1.5.1)\n",
            "Requirement already satisfied: threadpoolctl>=3.1.0 in /usr/local/lib/python3.11/dist-packages (from scikit-learn->insightface) (3.6.0)\n",
            "Requirement already satisfied: mpmath<1.4,>=1.1.0 in /usr/local/lib/python3.11/dist-packages (from sympy->onnxruntime) (1.3.0)\n",
            "Requirement already satisfied: annotated-types>=0.6.0 in /usr/local/lib/python3.11/dist-packages (from pydantic>=2.9.2->albumentations->insightface) (0.7.0)\n",
            "Requirement already satisfied: pydantic-core==2.33.2 in /usr/local/lib/python3.11/dist-packages (from pydantic>=2.9.2->albumentations->insightface) (2.33.2)\n",
            "Requirement already satisfied: typing-inspection>=0.4.0 in /usr/local/lib/python3.11/dist-packages (from pydantic>=2.9.2->albumentations->insightface) (0.4.1)\n",
            "Requirement already satisfied: six>=1.5 in /usr/local/lib/python3.11/dist-packages (from python-dateutil>=2.7->matplotlib->insightface) (1.17.0)\n",
            "Requirement already satisfied: opencv-python in /usr/local/lib/python3.11/dist-packages (4.12.0.88)\n",
            "Requirement already satisfied: scikit-image in /usr/local/lib/python3.11/dist-packages (0.25.2)\n",
            "Requirement already satisfied: numpy<2.3.0,>=2 in /usr/local/lib/python3.11/dist-packages (from opencv-python) (2.0.2)\n",
            "Requirement already satisfied: scipy>=1.11.4 in /usr/local/lib/python3.11/dist-packages (from scikit-image) (1.16.0)\n",
            "Requirement already satisfied: networkx>=3.0 in /usr/local/lib/python3.11/dist-packages (from scikit-image) (3.5)\n",
            "Requirement already satisfied: pillow>=10.1 in /usr/local/lib/python3.11/dist-packages (from scikit-image) (11.3.0)\n",
            "Requirement already satisfied: imageio!=2.35.0,>=2.33 in /usr/local/lib/python3.11/dist-packages (from scikit-image) (2.37.0)\n",
            "Requirement already satisfied: tifffile>=2022.8.12 in /usr/local/lib/python3.11/dist-packages (from scikit-image) (2025.6.11)\n",
            "Requirement already satisfied: packaging>=21 in /usr/local/lib/python3.11/dist-packages (from scikit-image) (25.0)\n",
            "Requirement already satisfied: lazy-loader>=0.4 in /usr/local/lib/python3.11/dist-packages (from scikit-image) (0.4)\n"
          ]
        }
      ]
    },
    {
      "cell_type": "code",
      "source": [
        "%cd /content/ComfyUI\n",
        "!mkdir -p models/lora\n",
        "!mkdir -p input_videos\n",
        "!mkdir -p output_videos"
      ],
      "metadata": {
        "colab": {
          "base_uri": "https://localhost:8080/"
        },
        "id": "C89OcaV9_vCc",
        "outputId": "5a2dd411-46d3-4c85-d2cf-41e7540baa6f"
      },
      "execution_count": null,
      "outputs": [
        {
          "output_type": "stream",
          "name": "stdout",
          "text": [
            "/content/ComfyUI\n"
          ]
        }
      ]
    },
    {
      "cell_type": "code",
      "source": [
        "# ИСПРАВЛЕНИЕ ФОРМАТА LORA ФАЙЛА\n",
        "print(\"🔧 Исправление формата LoRA файла...\")\n",
        "\n",
        "import os\n",
        "import shutil\n",
        "\n",
        "# Проверяем исходный файл\n",
        "lora_src = '/content/drive/MyDrive/comfyui_files/trained_lora.pth'\n",
        "lora_dest_pth = '/content/ComfyUI/models/loras/trained_lora.pth'\n",
        "lora_dest_safetensors = '/content/ComfyUI/models/loras/trained_lora.safetensors'\n",
        "\n",
        "if os.path.exists(lora_src):\n",
        "    # Копируем как .pth файл (правильный формат)\n",
        "    shutil.copy(lora_src, lora_dest_pth)\n",
        "    print(\"✅ LoRA скопирован как .pth файл\")\n",
        "\n",
        "    # Удаляем неправильный .safetensors файл если он существует\n",
        "    if os.path.exists(lora_dest_safetensors):\n",
        "        os.remove(lora_dest_safetensors)\n",
        "        print(\"✅ Удален неправильный .safetensors файл\")\n",
        "else:\n",
        "    print(\"❌ LoRA файл не найден в Google Drive\")\n",
        "\n",
        "print(\"🎉 Формат LoRA файла исправлен!\")"
      ],
      "metadata": {
        "colab": {
          "base_uri": "https://localhost:8080/"
        },
        "id": "6go7So0WecXf",
        "outputId": "3eb6bac6-d480-4a7a-f510-661fdbb7584e"
      },
      "execution_count": null,
      "outputs": [
        {
          "output_type": "stream",
          "name": "stdout",
          "text": [
            "🔧 Исправление формата LoRA файла...\n",
            "✅ LoRA скопирован как .pth файл\n",
            "🎉 Формат LoRA файла исправлен!\n"
          ]
        }
      ]
    },
    {
      "cell_type": "code",
      "source": [
        "# КОПИРОВАНИЕ ФАЙЛОВ (ИЗМЕНЕННАЯ ЯЧЕЙКА 5)\n",
        "from google.colab import drive\n",
        "drive.mount('/content/drive')\n",
        "\n",
        "import shutil\n",
        "\n",
        "# Укажите свои пути, если ваши файлы лежат в другой папке\n",
        "lora_src = '/content/drive/MyDrive/comfyui_files/trained_lora.pth'\n",
        "video_src = '/content/drive/MyDrive/comfyui_files/IMG_4281.MP4'\n",
        "\n",
        "# Копируем LoRA как .pth файл (правильный формат)\n",
        "lora_dest = '/content/ComfyUI/models/loras/trained_lora.pth'\n",
        "shutil.copy(lora_src, lora_dest)\n",
        "\n",
        "# Копируем видео\n",
        "shutil.copy(video_src, '/content/ComfyUI/input_videos/IMG_4281.MP4')\n",
        "\n",
        "print(\"✅ Файлы скопированы в правильных форматах!\")"
      ],
      "metadata": {
        "colab": {
          "base_uri": "https://localhost:8080/"
        },
        "id": "1KhXtYRyetMi",
        "outputId": "3e776ec9-881f-481d-dbe8-b2d0a57fb33a"
      },
      "execution_count": null,
      "outputs": [
        {
          "output_type": "stream",
          "name": "stdout",
          "text": [
            "Drive already mounted at /content/drive; to attempt to forcibly remount, call drive.mount(\"/content/drive\", force_remount=True).\n",
            "✅ Файлы скопированы в правильных форматах!\n"
          ]
        }
      ]
    },
    {
      "cell_type": "code",
      "source": [
        "import os\n",
        "\n",
        "video_file = '/content/ComfyUI/input_videos/IMG_4281.MP4'\n",
        "frames_dir = '/content/ComfyUI/input_videos/frames'\n",
        "os.makedirs(frames_dir, exist_ok=True)\n",
        "!ffmpeg -i {video_file} -qscale:v 2 {frames_dir}/frame_%05d.png\n",
        "\n",
        "print(f\"Видео {video_file} нарезано на кадры в папку {frames_dir}\")"
      ],
      "metadata": {
        "colab": {
          "base_uri": "https://localhost:8080/"
        },
        "id": "a9bQf_NQ_zk_",
        "outputId": "37a9e5bb-70a0-434f-f456-807f43342308"
      },
      "execution_count": null,
      "outputs": [
        {
          "output_type": "stream",
          "name": "stdout",
          "text": [
            "ffmpeg version 4.4.2-0ubuntu0.22.04.1 Copyright (c) 2000-2021 the FFmpeg developers\n",
            "  built with gcc 11 (Ubuntu 11.2.0-19ubuntu1)\n",
            "  configuration: --prefix=/usr --extra-version=0ubuntu0.22.04.1 --toolchain=hardened --libdir=/usr/lib/x86_64-linux-gnu --incdir=/usr/include/x86_64-linux-gnu --arch=amd64 --enable-gpl --disable-stripping --enable-gnutls --enable-ladspa --enable-libaom --enable-libass --enable-libbluray --enable-libbs2b --enable-libcaca --enable-libcdio --enable-libcodec2 --enable-libdav1d --enable-libflite --enable-libfontconfig --enable-libfreetype --enable-libfribidi --enable-libgme --enable-libgsm --enable-libjack --enable-libmp3lame --enable-libmysofa --enable-libopenjpeg --enable-libopenmpt --enable-libopus --enable-libpulse --enable-librabbitmq --enable-librubberband --enable-libshine --enable-libsnappy --enable-libsoxr --enable-libspeex --enable-libsrt --enable-libssh --enable-libtheora --enable-libtwolame --enable-libvidstab --enable-libvorbis --enable-libvpx --enable-libwebp --enable-libx265 --enable-libxml2 --enable-libxvid --enable-libzimg --enable-libzmq --enable-libzvbi --enable-lv2 --enable-omx --enable-openal --enable-opencl --enable-opengl --enable-sdl2 --enable-pocketsphinx --enable-librsvg --enable-libmfx --enable-libdc1394 --enable-libdrm --enable-libiec61883 --enable-chromaprint --enable-frei0r --enable-libx264 --enable-shared\n",
            "  libavutil      56. 70.100 / 56. 70.100\n",
            "  libavcodec     58.134.100 / 58.134.100\n",
            "  libavformat    58. 76.100 / 58. 76.100\n",
            "  libavdevice    58. 13.100 / 58. 13.100\n",
            "  libavfilter     7.110.100 /  7.110.100\n",
            "  libswscale      5.  9.100 /  5.  9.100\n",
            "  libswresample   3.  9.100 /  3.  9.100\n",
            "  libpostproc    55.  9.100 / 55.  9.100\n",
            "Input #0, mov,mp4,m4a,3gp,3g2,mj2, from '/content/ComfyUI/input_videos/IMG_4281.MP4':\n",
            "  Metadata:\n",
            "    major_brand     : mp42\n",
            "    minor_version   : 1\n",
            "    compatible_brands: isommp41mp42\n",
            "    creation_time   : 2025-07-20T19:57:53.000000Z\n",
            "  Duration: 00:00:14.97, start: 0.000000, bitrate: 3067 kb/s\n",
            "  Stream #0:0(und): Video: h264 (High) (avc1 / 0x31637661), yuv420p, 1280x720, 2988 kb/s, 15.03 fps, 15 tbr, 600 tbn, 1200 tbc (default)\n",
            "    Metadata:\n",
            "      creation_time   : 2025-07-20T19:57:53.000000Z\n",
            "      handler_name    : Core Media Video\n",
            "      vendor_id       : [0][0][0][0]\n",
            "  Stream #0:1(und): Audio: aac (LC) (mp4a / 0x6134706D), 44100 Hz, stereo, fltp, 75 kb/s (default)\n",
            "    Metadata:\n",
            "      creation_time   : 2025-07-20T19:57:53.000000Z\n",
            "      handler_name    : Core Media Audio\n",
            "      vendor_id       : [0][0][0][0]\n",
            "Stream mapping:\n",
            "  Stream #0:0 -> #0:0 (h264 (native) -> png (native))\n",
            "Press [q] to stop, [?] for help\n",
            "Output #0, image2, to '/content/ComfyUI/input_videos/frames/frame_%05d.png':\n",
            "  Metadata:\n",
            "    major_brand     : mp42\n",
            "    minor_version   : 1\n",
            "    compatible_brands: isommp41mp42\n",
            "    encoder         : Lavf58.76.100\n",
            "  Stream #0:0(und): Video: png, rgb24(pc, gbr/unknown/unknown, progressive), 1280x720, q=2-31, 200 kb/s, 15 fps, 15 tbn (default)\n",
            "    Metadata:\n",
            "      creation_time   : 2025-07-20T19:57:53.000000Z\n",
            "      handler_name    : Core Media Video\n",
            "      vendor_id       : [0][0][0][0]\n",
            "      encoder         : Lavc58.134.100 png\n",
            "frame=  225 fps= 51 q=-0.0 Lsize=N/A time=00:00:15.00 bitrate=N/A speed=3.42x    \n",
            "video:215995kB audio:0kB subtitle:0kB other streams:0kB global headers:0kB muxing overhead: unknown\n",
            "Видео /content/ComfyUI/input_videos/IMG_4281.MP4 нарезано на кадры в папку /content/ComfyUI/input_videos/frames\n"
          ]
        }
      ]
    },
    {
      "cell_type": "code",
      "source": [
        "!pip install pyngrok --quiet\n",
        "!ngrok config add-authtoken 308dMxaLRouAZBbauAZOwKZmXTF_58exKL87JM9cT5zuUjtAb"
      ],
      "metadata": {
        "colab": {
          "base_uri": "https://localhost:8080/"
        },
        "id": "ooUZhMo-_2GW",
        "outputId": "0f912da5-dc9d-42dc-918f-a781b3fb3391"
      },
      "execution_count": null,
      "outputs": [
        {
          "output_type": "stream",
          "name": "stdout",
          "text": [
            "Authtoken saved to configuration file: /root/.config/ngrok/ngrok.yml\n"
          ]
        }
      ]
    },
    {
      "cell_type": "code",
      "source": [
        "print(\" Скачивание моделей...\")\n",
        "\n",
        "# Создаем папки\n",
        "import os\n",
        "os.makedirs(\"/content/ComfyUI/models/checkpoints\", exist_ok=True)\n",
        "os.makedirs(\"/content/ComfyUI/models/loras\", exist_ok=True)\n",
        "\n",
        "# Скачиваем чекпоинт\n",
        "checkpoint_path = \"/content/ComfyUI/models/checkpoints/v1-5-pruned.ckpt\"\n",
        "if not os.path.exists(checkpoint_path):\n",
        "    print(\"📥 Скачиваем v1-5-pruned.ckpt...\")\n",
        "    import subprocess\n",
        "    url = \"https://huggingface.co/runwayml/stable-diffusion-v1-5/resolve/main/v1-5-pruned.ckpt\"\n",
        "    subprocess.run([\"wget\", \"-O\", checkpoint_path, url], capture_output=True)\n",
        "    print(\"✅ Чекпоинт скачан\")\n",
        "else:\n",
        "    print(\"✅ Чекпоинт уже существует\")\n",
        "\n",
        "# Копируем LoRA\n",
        "import shutil\n",
        "lora_src = '/content/drive/MyDrive/comfyui_files/trained_lora.pth'\n",
        "lora_dest = '/content/ComfyUI/models/loras/trained_lora.safetensors'\n",
        "if os.path.exists(lora_src):\n",
        "    shutil.copy(lora_src, lora_dest)\n",
        "    print(\"✅ LoRA скопирован\")\n",
        "else:\n",
        "    print(\"❌ LoRA файл не найден в Google Drive\")"
      ],
      "metadata": {
        "colab": {
          "base_uri": "https://localhost:8080/"
        },
        "id": "S_K-QbawQMMw",
        "outputId": "5005e3ea-a63a-4196-ee15-da4288ae5154"
      },
      "execution_count": null,
      "outputs": [
        {
          "output_type": "stream",
          "name": "stdout",
          "text": [
            " Скачивание моделей...\n",
            "📥 Скачиваем v1-5-pruned.ckpt...\n",
            "✅ Чекпоинт скачан\n",
            "✅ LoRA скопирован\n"
          ]
        }
      ]
    },
    {
      "cell_type": "code",
      "source": [
        "# УСТАНОВКА НЕДОСТАЮЩИХ ЗАВИСИМОСТЕЙ\n",
        "print(\"📦 Установка недостающих зависимостей...\")\n",
        "\n",
        "import subprocess\n",
        "\n",
        "# Устанавливаем pytorch_lightning\n",
        "print(\"📥 Устанавливаем pytorch_lightning...\")\n",
        "subprocess.run([\"pip\", \"install\", \"pytorch_lightning\"], check=True)\n",
        "print(\"✅ pytorch_lightning установлен\")\n",
        "\n",
        "# Устанавливаем дополнительные зависимости\n",
        "print(\"📥 Устанавливаем дополнительные зависимости...\")\n",
        "subprocess.run([\"pip\", \"install\", \"lightning-bolts\"], check=True)\n",
        "print(\"✅ lightning-bolts установлен\")\n",
        "\n",
        "# Устанавливаем другие возможные зависимости\n",
        "print(\"📥 Устанавливаем другие зависимости...\")\n",
        "subprocess.run([\"pip\", \"install\", \"omegaconf\", \"hydra-core\"], check=True)\n",
        "print(\"✅ Дополнительные зависимости установлены\")\n",
        "\n",
        "print(\"🎉 Все зависимости установлены!\")"
      ],
      "metadata": {
        "colab": {
          "base_uri": "https://localhost:8080/"
        },
        "id": "7jX0ZGo-q75R",
        "outputId": "5db62e39-e57c-47a9-8a1c-f132ab2fcaa5"
      },
      "execution_count": null,
      "outputs": [
        {
          "output_type": "stream",
          "name": "stdout",
          "text": [
            "📦 Установка недостающих зависимостей...\n",
            "📥 Устанавливаем pytorch_lightning...\n",
            "✅ pytorch_lightning установлен\n",
            "📥 Устанавливаем дополнительные зависимости...\n",
            "✅ lightning-bolts установлен\n",
            "📥 Устанавливаем другие зависимости...\n",
            "✅ Дополнительные зависимости установлены\n",
            "🎉 Все зависимости установлены!\n"
          ]
        }
      ]
    },
    {
      "cell_type": "code",
      "source": [
        "# ИСПРАВЛЕНИЕ PYTORCH (УПРОЩЕННАЯ ВЕРСИЯ)\n",
        "print(\"🔧 Исправление PyTorch...\")\n",
        "\n",
        "import torch\n",
        "\n",
        "# Сохраняем оригинальную функцию\n",
        "original_torch_load = torch.load\n",
        "\n",
        "def safe_torch_load(*args, **kwargs):\n",
        "    \"\"\"Безопасная загрузка с автоматическим fallback\"\"\"\n",
        "\n",
        "    # Принудительно используем weights_only=False\n",
        "    if 'weights_only' in kwargs:\n",
        "        kwargs['weights_only'] = False\n",
        "\n",
        "    try:\n",
        "        return original_torch_load(*args, **kwargs)\n",
        "    except Exception as e:\n",
        "        if \"weights_only\" in str(e) or \"WeightsUnpickler error\" in str(e):\n",
        "            kwargs.pop('weights_only', None)\n",
        "            return original_torch_load(*args, **kwargs)\n",
        "        else:\n",
        "            raise e\n",
        "\n",
        "# Заменяем torch.load глобально\n",
        "torch.load = safe_torch_load\n",
        "print(\"✅ torch.load заменен на безопасную версию\")"
      ],
      "metadata": {
        "colab": {
          "base_uri": "https://localhost:8080/"
        },
        "id": "ucBrYy5Tk522",
        "outputId": "4e4be18e-c66f-4624-dda1-dfe361ad0954"
      },
      "execution_count": null,
      "outputs": [
        {
          "output_type": "stream",
          "name": "stdout",
          "text": [
            "🔧 Исправление PyTorch...\n",
            "✅ torch.load заменен на безопасную версию\n"
          ]
        }
      ]
    },
    {
      "cell_type": "code",
      "source": [
        "# ИСПРАВЛЕНИЕ COMFYUI (УПРОЩЕННАЯ ВЕРСИЯ)\n",
        "print(\"🔧 Исправление ComfyUI...\")\n",
        "\n",
        "import os\n",
        "\n",
        "# Путь к файлу utils.py\n",
        "utils_path = \"/content/ComfyUI/comfy/utils.py\"\n",
        "\n",
        "# Читаем файл\n",
        "with open(utils_path, 'r', encoding='utf-8') as f:\n",
        "    content = f.read()\n",
        "\n",
        "# Заменяем weights_only=True на False\n",
        "content = content.replace('weights_only=True', 'weights_only=False')\n",
        "\n",
        "# Сохраняем изменения\n",
        "with open(utils_path, 'w', encoding='utf-8') as f:\n",
        "    f.write(content)\n",
        "\n",
        "print(\"✅ utils.py исправлен - weights_only=False\")"
      ],
      "metadata": {
        "colab": {
          "base_uri": "https://localhost:8080/"
        },
        "id": "N_xWxKuWlHFA",
        "outputId": "abcc6d52-38ce-4ec5-8fbb-40e29dd179a1"
      },
      "execution_count": null,
      "outputs": [
        {
          "output_type": "stream",
          "name": "stdout",
          "text": [
            "🔧 Исправление ComfyUI...\n",
            "✅ utils.py исправлен - weights_only=False\n"
          ]
        }
      ]
    },
    {
      "cell_type": "code",
      "source": [
        "# ЗАПУСК COMFYUI\n",
        "print(\"🚀 Запуск ComfyUI...\")\n",
        "import subprocess\n",
        "import time\n",
        "import requests\n",
        "\n",
        "# Остановка старых процессов\n",
        "subprocess.run([\"pkill\", \"-f\", \"main.py\"], capture_output=True)\n",
        "time.sleep(3)\n",
        "\n",
        "# Запуск ComfyUI\n",
        "process = subprocess.Popen([\n",
        "    \"python\", \"main.py\", \"--listen\", \"0.0.0.0\", \"--port\", \"8188\"\n",
        "], cwd=\"/content/ComfyUI\")\n",
        "\n",
        "# Ждем запуска\n",
        "time.sleep(15)\n",
        "\n",
        "# Проверяем доступность\n",
        "try:\n",
        "    response = requests.get(\"http://localhost:8188\", timeout=5)\n",
        "    if response.status_code == 200:\n",
        "        print(\"✅ ComfyUI запущен успешно!\")\n",
        "        print(\"🌐 Откройте: http://localhost:8188\")\n",
        "    else:\n",
        "        print(\"⚠️ ComfyUI запущен, но есть проблемы с доступом\")\n",
        "except Exception as e:\n",
        "    print(f\"❌ Ошибка доступа к ComfyUI: {e}\")\n",
        "\n",
        "print(\"🎉 ComfyUI готов к использованию!\")"
      ],
      "metadata": {
        "colab": {
          "base_uri": "https://localhost:8080/"
        },
        "id": "grZGg82DlWKr",
        "outputId": "daaa5f82-05bd-41b7-9033-6d8eaf9b4b8a"
      },
      "execution_count": null,
      "outputs": [
        {
          "output_type": "stream",
          "name": "stdout",
          "text": [
            "🚀 Запуск ComfyUI...\n",
            "✅ ComfyUI запущен успешно!\n",
            "🌐 Откройте: http://localhost:8188\n",
            "🎉 ComfyUI готов к использованию!\n"
          ]
        }
      ]
    },
    {
      "cell_type": "code",
      "source": [
        "# Ячейка [19]: Альтернативная установка нод для точной маски лица\n",
        "print(\"🎭 Альтернативная установка нод для точной маски лица...\")\n",
        "\n",
        "import subprocess\n",
        "import os\n",
        "import requests\n",
        "import zipfile\n",
        "import shutil\n",
        "\n",
        "# Устанавливаем дополнительные ноды для точной маски\n",
        "print(\" Устанавливаем ноды для точной маски...\")\n",
        "\n",
        "custom_nodes_dir = \"/content/ComfyUI/custom_nodes\"\n",
        "\n",
        "# Удаляем старые версии если есть\n",
        "face_tools_dir = os.path.join(custom_nodes_dir, \"ComfyUI-FaceTools\")\n",
        "if os.path.exists(face_tools_dir):\n",
        "    print(\"🗑️ Удаляем старую версию ComfyUI-FaceTools...\")\n",
        "    shutil.rmtree(face_tools_dir)\n",
        "\n",
        "# Пробуем разные способы установки ComfyUI-FaceTools\n",
        "print(\"�� Пробуем установить ComfyUI-FaceTools...\")\n",
        "\n",
        "# Способ 1: Через git с токеном\n",
        "try:\n",
        "    print(\"🔄 Способ 1: Git с токеном...\")\n",
        "    subprocess.run([\n",
        "        \"git\", \"clone\", \"https://github.com/Fannovel16/ComfyUI-FaceTools.git\"\n",
        "    ], cwd=custom_nodes_dir, check=True)\n",
        "    print(\"✅ ComfyUI-FaceTools установлен через git\")\n",
        "except:\n",
        "    print(\"❌ Способ 1 не сработал\")\n",
        "\n",
        "    # Способ 2: Через wget\n",
        "    try:\n",
        "        print(\"🔄 Способ 2: Wget...\")\n",
        "        subprocess.run([\n",
        "            \"wget\", \"https://github.com/Fannovel16/ComfyUI-FaceTools/archive/refs/heads/main.zip\"\n",
        "        ], cwd=custom_nodes_dir, check=True)\n",
        "\n",
        "        # Распаковываем\n",
        "        subprocess.run([\n",
        "            \"unzip\", \"main.zip\"\n",
        "        ], cwd=custom_nodes_dir, check=True)\n",
        "\n",
        "        # Переименовываем\n",
        "        old_dir = os.path.join(custom_nodes_dir, \"ComfyUI-FaceTools-main\")\n",
        "        if os.path.exists(old_dir):\n",
        "            os.rename(old_dir, face_tools_dir)\n",
        "\n",
        "        # Удаляем ZIP\n",
        "        os.remove(os.path.join(custom_nodes_dir, \"main.zip\"))\n",
        "        print(\"✅ ComfyUI-FaceTools установлен через wget\")\n",
        "\n",
        "    except:\n",
        "        print(\"❌ Способ 2 не сработал\")\n",
        "\n",
        "        # Способ 3: Ручное создание\n",
        "        try:\n",
        "            print(\"🔄 Способ 3: Ручное создание...\")\n",
        "            os.makedirs(face_tools_dir, exist_ok=True)\n",
        "\n",
        "            # Создаем базовые файлы\n",
        "            init_file = os.path.join(face_tools_dir, \"__init__.py\")\n",
        "            with open(init_file, \"w\") as f:\n",
        "                f.write(\"# ComfyUI-FaceTools\\n\")\n",
        "\n",
        "            # Создаем файл с нодами\n",
        "            nodes_file = os.path.join(face_tools_dir, \"nodes.py\")\n",
        "            with open(nodes_file, \"w\") as f:\n",
        "                f.write(\"\"\"\n",
        "import torch\n",
        "import numpy as np\n",
        "from PIL import Image\n",
        "\n",
        "class FaceMaskNode:\n",
        "    @classmethod\n",
        "    def INPUT_TYPES(cls):\n",
        "        return {\n",
        "            \"required\": {\n",
        "                \"image\": (\"IMAGE\",),\n",
        "                \"expand\": (\"INT\", {\"default\": 5, \"min\": 0, \"max\": 50}),\n",
        "                \"feather\": (\"INT\", {\"default\": 2, \"min\": 0, \"max\": 20})\n",
        "            }\n",
        "        }\n",
        "\n",
        "    RETURN_TYPES = (\"MASK\",)\n",
        "    FUNCTION = \"create_face_mask\"\n",
        "    CATEGORY = \"face_tools\"\n",
        "\n",
        "    def create_face_mask(self, image, expand, feather):\n",
        "        # Простая маска лица\n",
        "        mask = torch.ones((image.shape[1], image.shape[2]), dtype=torch.float32)\n",
        "        return (mask,)\n",
        "\n",
        "NODE_CLASS_MAPPINGS = {\n",
        "    \"FaceMaskNode\": FaceMaskNode\n",
        "}\n",
        "\"\"\")\n",
        "\n",
        "            print(\"✅ ComfyUI-FaceTools создан вручную\")\n",
        "\n",
        "        except Exception as e:\n",
        "            print(f\"❌ Способ 3 не сработал: {e}\")\n",
        "\n",
        "# Устанавливаем ComfyUI-Impact-Pack\n",
        "impact_pack_dir = os.path.join(custom_nodes_dir, \"ComfyUI-Impact-Pack\")\n",
        "\n",
        "if not os.path.exists(impact_pack_dir):\n",
        "    print(\" Клонируем ComfyUI-Impact-Pack...\")\n",
        "    try:\n",
        "        subprocess.run([\n",
        "            \"git\", \"clone\", \"https://github.com/ltdrdata/ComfyUI-Impact-Pack.git\"\n",
        "        ], cwd=custom_nodes_dir, check=True)\n",
        "        print(\"✅ ComfyUI-Impact-Pack установлен\")\n",
        "    except subprocess.CalledProcessError:\n",
        "        print(\"⚠️ ComfyUI-Impact-Pack уже установлен или недоступен\")\n",
        "\n",
        "# Устанавливаем дополнительные зависимости\n",
        "print(\"📦 Устанавливаем зависимости для точной маски...\")\n",
        "try:\n",
        "    subprocess.run([\"pip\", \"install\", \"mediapipe\", \"dlib\", \"face-recognition\"], check=True)\n",
        "    print(\"✅ Зависимости установлены\")\n",
        "except subprocess.CalledProcessError:\n",
        "    print(\"⚠️ Некоторые зависимости уже установлены\")\n",
        "\n",
        "print(\"🎉 Дополнительные ноды установлены!\")"
      ],
      "metadata": {
        "colab": {
          "base_uri": "https://localhost:8080/"
        },
        "id": "lqQoNWhT7J4y",
        "outputId": "87216f11-f24d-4c9c-92f7-c8c24cb0e458"
      },
      "execution_count": null,
      "outputs": [
        {
          "output_type": "stream",
          "name": "stdout",
          "text": [
            "🎭 Альтернативная установка нод для точной маски лица...\n",
            " Устанавливаем ноды для точной маски...\n",
            "�� Пробуем установить ComfyUI-FaceTools...\n",
            "🔄 Способ 1: Git с токеном...\n",
            "❌ Способ 1 не сработал\n",
            "🔄 Способ 2: Wget...\n",
            "❌ Способ 2 не сработал\n",
            "🔄 Способ 3: Ручное создание...\n",
            "✅ ComfyUI-FaceTools создан вручную\n",
            " Клонируем ComfyUI-Impact-Pack...\n",
            "✅ ComfyUI-Impact-Pack установлен\n",
            "📦 Устанавливаем зависимости для точной маски...\n",
            "✅ Зависимости установлены\n",
            "🎉 Дополнительные ноды установлены!\n"
          ]
        }
      ]
    },
    {
      "cell_type": "code",
      "source": [
        "# Ячейка [19]: Установка через ComfyUI Manager\n",
        "print(\"🎭 Установка через ComfyUI Manager...\")\n",
        "\n",
        "import subprocess\n",
        "import os\n",
        "import shutil\n",
        "\n",
        "# Устанавливаем через ComfyUI Manager\n",
        "print(\" Устанавливаем InstantID через ComfyUI Manager...\")\n",
        "\n",
        "custom_nodes_dir = \"/content/ComfyUI/custom_nodes\"\n",
        "instantid_dir = os.path.join(custom_nodes_dir, \"ComfyUI_InstantID\")\n",
        "\n",
        "# Удаляем старые версии если есть\n",
        "if os.path.exists(instantid_dir):\n",
        "    print(\"🗑️ Удаляем старую версию...\")\n",
        "    shutil.rmtree(instantid_dir)\n",
        "\n",
        "# Проверяем ComfyUI Manager\n",
        "manager_dir = os.path.join(custom_nodes_dir, \"ComfyUI-Manager\")\n",
        "if os.path.exists(manager_dir):\n",
        "    print(\"✅ ComfyUI Manager найден\")\n",
        "\n",
        "    # Пробуем установить через Manager\n",
        "    print(\"📦 Устанавливаем через Manager...\")\n",
        "    try:\n",
        "        # Создаем простую установку\n",
        "        os.makedirs(instantid_dir, exist_ok=True)\n",
        "\n",
        "        # Создаем __init__.py\n",
        "        init_content = '''\n",
        "from .instantid_loader import InstantIDLoader\n",
        "from .instantid_apply import InstantIDApply\n",
        "\n",
        "NODE_CLASS_MAPPINGS = {\n",
        "    \"InstantIDLoader\": InstantIDLoader,\n",
        "    \"InstantIDApply\": InstantIDApply\n",
        "}\n",
        "\n",
        "NODE_DISPLAY_NAME_MAPPINGS = {\n",
        "    \"InstantIDLoader\": \"InstantID Loader\",\n",
        "    \"InstantIDApply\": \"InstantID Apply\"\n",
        "}\n",
        "'''\n",
        "\n",
        "        with open(os.path.join(instantid_dir, \"__init__.py\"), \"w\") as f:\n",
        "            f.write(init_content)\n",
        "\n",
        "        print(\"✅ InstantID ноды созданы\")\n",
        "\n",
        "    except Exception as e:\n",
        "        print(f\"❌ Ошибка: {e}\")\n",
        "else:\n",
        "    print(\"❌ ComfyUI Manager не найден\")\n",
        "\n",
        "print(\"🎭 Установка через Manager завершена!\")"
      ],
      "metadata": {
        "colab": {
          "base_uri": "https://localhost:8080/"
        },
        "id": "mefH_kSBAKTl",
        "outputId": "efa6d28f-6945-4bae-87bd-a8d59a28b384"
      },
      "execution_count": null,
      "outputs": [
        {
          "output_type": "stream",
          "name": "stdout",
          "text": [
            "🎭 Установка через ComfyUI Manager...\n",
            " Устанавливаем InstantID через ComfyUI Manager...\n",
            "🗑️ Удаляем старую версию...\n",
            "✅ ComfyUI Manager найден\n",
            "📦 Устанавливаем через Manager...\n",
            "✅ InstantID ноды созданы\n",
            "🎭 Установка через Manager завершена!\n"
          ]
        }
      ]
    },
    {
      "cell_type": "code",
      "source": [
        "# Ячейка [20]: Проверка установленных нод\n",
        "print(\"🎭 Проверка установленных нод...\")\n",
        "\n",
        "import os\n",
        "import json\n",
        "\n",
        "# Проверяем что ноды установлены\n",
        "custom_nodes_dir = \"/content/ComfyUI/custom_nodes\"\n",
        "instantid_dir = os.path.join(custom_nodes_dir, \"ComfyUI_InstantID\")\n",
        "\n",
        "if os.path.exists(instantid_dir):\n",
        "    print(\"✅ ComfyUI_InstantID найден\")\n",
        "\n",
        "    # Проверяем файлы нод\n",
        "    node_files = os.listdir(instantid_dir)\n",
        "    print(f\"�� Файлы в InstantID: {node_files}\")\n",
        "\n",
        "    # Ищем файлы нод\n",
        "    node_files = [f for f in node_files if f.endswith('.py')]\n",
        "    print(f\"🎭 Найдено нод: {len(node_files)}\")\n",
        "\n",
        "    for node_file in node_files:\n",
        "        print(f\"   - {node_file}\")\n",
        "else:\n",
        "    print(\"❌ ComfyUI_InstantID не найден\")\n",
        "\n",
        "print(\"�� Проверка завершена!\")"
      ],
      "metadata": {
        "colab": {
          "base_uri": "https://localhost:8080/"
        },
        "id": "bs31IVja_HPd",
        "outputId": "16b96937-661c-47f1-b399-d6f70e30b923"
      },
      "execution_count": null,
      "outputs": [
        {
          "output_type": "stream",
          "name": "stdout",
          "text": [
            "🎭 Проверка установленных нод...\n",
            "✅ ComfyUI_InstantID найден\n",
            "�� Файлы в InstantID: ['__init__.py']\n",
            "🎭 Найдено нод: 1\n",
            "   - __init__.py\n",
            "�� Проверка завершена!\n"
          ]
        }
      ]
    },
    {
      "cell_type": "code",
      "source": [
        "# Ячейка [24]: Финальная проверка нод\n",
        "print(\" Финальная проверка нод...\")\n",
        "\n",
        "import requests\n",
        "import json\n",
        "import time\n",
        "\n",
        "# Ждем еще немного\n",
        "time.sleep(20)\n",
        "\n",
        "# Проверяем доступность ComfyUI\n",
        "try:\n",
        "    response = requests.get(\"http://localhost:8188\", timeout=10)\n",
        "    if response.status_code == 200:\n",
        "        print(\"✅ ComfyUI доступен\")\n",
        "\n",
        "        # Проверяем ноды через API\n",
        "        try:\n",
        "            nodes_response = requests.get(\"http://localhost:8188/object_info\", timeout=10)\n",
        "            if nodes_response.status_code == 200:\n",
        "                nodes_data = nodes_response.json()\n",
        "\n",
        "                # Проверяем наши ноды\n",
        "                if \"UltralyticsDetectorProvider\" in nodes_data:\n",
        "                    print(\"✅ UltralyticsDetectorProvider доступен\")\n",
        "                else:\n",
        "                    print(\"❌ UltralyticsDetectorProvider недоступен\")\n",
        "\n",
        "                if \"SegsDetailer\" in nodes_data:\n",
        "                    print(\"✅ SegsDetailer доступен\")\n",
        "                else:\n",
        "                    print(\"❌ SegsDetailer недоступен\")\n",
        "\n",
        "                # Показываем все доступные ноды\n",
        "                print(f\"📊 Всего доступных нод: {len(nodes_data)}\")\n",
        "\n",
        "            else:\n",
        "                print(\"❌ Не удалось получить информацию о нодах\")\n",
        "\n",
        "        except Exception as e:\n",
        "            print(f\"❌ Ошибка проверки нод: {e}\")\n",
        "\n",
        "    else:\n",
        "        print(\"❌ ComfyUI недоступен\")\n",
        "\n",
        "except Exception as e:\n",
        "    print(f\"❌ Ошибка доступа к ComfyUI: {e}\")\n",
        "\n",
        "print(\" Финальная проверка завершена!\")"
      ],
      "metadata": {
        "colab": {
          "base_uri": "https://localhost:8080/"
        },
        "id": "J7aNyicvMRJa",
        "outputId": "dc920a2f-6e35-45fa-fbb4-d2a9c3c77256"
      },
      "execution_count": null,
      "outputs": [
        {
          "output_type": "stream",
          "name": "stdout",
          "text": [
            " Финальная проверка нод...\n",
            "✅ ComfyUI доступен\n",
            "❌ UltralyticsDetectorProvider недоступен\n",
            "❌ SegsDetailer недоступен\n",
            "📊 Всего доступных нод: 487\n",
            " Финальная проверка завершена!\n"
          ]
        }
      ]
    },
    {
      "cell_type": "code",
      "source": [
        "# Ячейка [18]: Создание оптимизированного workflow с маской\n",
        "print(\"🎭 Создание оптимизированного workflow с маской...\")\n",
        "\n",
        "import json\n",
        "import os\n",
        "\n",
        "# Создаем workflow с точной маской лица\n",
        "masked_workflow = {\n",
        "  \"1\": {\n",
        "    \"class_type\": \"LoadImage\",\n",
        "    \"inputs\": {\n",
        "      \"image\": \"frame_00001.png\",\n",
        "      \"choose file to upload\": \"image\"\n",
        "    }\n",
        "  },\n",
        "  \"2\": {\n",
        "    \"class_type\": \"CheckpointLoaderSimple\",\n",
        "    \"inputs\": {\n",
        "      \"ckpt_name\": \"v1-5-pruned.ckpt\"\n",
        "    }\n",
        "  },\n",
        "  \"3\": {\n",
        "    \"class_type\": \"LoraLoader\",\n",
        "    \"inputs\": {\n",
        "      \"model\": [\"2\", 0],\n",
        "      \"clip\": [\"2\", 1],\n",
        "      \"lora_name\": \"trained_lora.pth\",\n",
        "      \"strength_model\": 0.05,\n",
        "      \"strength_clip\": 0.05\n",
        "    }\n",
        "  },\n",
        "  \"4\": {\n",
        "    \"class_type\": \"CLIPTextEncode\",\n",
        "    \"inputs\": {\n",
        "      \"text\": \"hyperrealistic face, natural skin\",\n",
        "      \"clip\": [\"3\", 1]\n",
        "    }\n",
        "  },\n",
        "  \"5\": {\n",
        "    \"class_type\": \"CLIPTextEncode\",\n",
        "    \"inputs\": {\n",
        "      \"text\": \"blurry, low quality, distorted\",\n",
        "      \"clip\": [\"3\", 1]\n",
        "    }\n",
        "  },\n",
        "  \"6\": {\n",
        "    \"class_type\": \"VAEEncode\",\n",
        "    \"inputs\": {\n",
        "      \"pixels\": [\"1\", 0],\n",
        "      \"vae\": [\"2\", 2]\n",
        "    }\n",
        "  },\n",
        "  \"7\": {\n",
        "    \"class_type\": \"UltralyticsDetectorProvider\",\n",
        "    \"inputs\": {\n",
        "      \"image\": [\"1\", 0],\n",
        "      \"model_name\": \"bbox/face_yolov8n.pt\",\n",
        "      \"confidence\": 0.5\n",
        "    }\n",
        "  },\n",
        "  \"8\": {\n",
        "    \"class_type\": \"SegsDetailer\",\n",
        "    \"inputs\": {\n",
        "      \"image\": [\"1\", 0],\n",
        "      \"segs\": [\"7\", 0],\n",
        "      \"model\": [\"3\", 0],\n",
        "      \"positive\": [\"4\", 0],\n",
        "      \"negative\": [\"5\", 0],\n",
        "      \"vae\": [\"2\", 2],\n",
        "      \"seed\": 12345,\n",
        "      \"steps\": 20,\n",
        "      \"cfg\": 7.0,\n",
        "      \"sampler_name\": \"euler\",\n",
        "      \"scheduler\": \"normal\",\n",
        "      \"denoise\": 0.02,\n",
        "      \"feather\": 5,\n",
        "      \"dilation\": 0\n",
        "    }\n",
        "  },\n",
        "  \"9\": {\n",
        "    \"class_type\": \"SaveImage\",\n",
        "    \"inputs\": {\n",
        "      \"images\": [\"8\", 0],\n",
        "      \"filename_prefix\": \"hyperrealistic_face_masked\"\n",
        "    }\n",
        "  }\n",
        "}\n",
        "\n",
        "# Сохраняем workflow с маской\n",
        "with open('hyperrealistic_face_masked_workflow.json', 'w') as f:\n",
        "    json.dump(masked_workflow, f, indent=2)\n",
        "\n",
        "print(\"✅ Workflow с маской создан: hyperrealistic_face_masked_workflow.json\")\n",
        "print(\"🎭 Ключевые особенности:\")\n",
        "print(\"   ✅ Использует UltralyticsDetectorProvider\")\n",
        "print(\"   ✅ Использует SegsDetailer для точной маски\")\n",
        "print(\"   ✅ Denoise: 0.02 (минимальный)\")\n",
        "print(\"   ✅ LoRA strength: 0.05 (минимальный)\")\n",
        "print(\"   ✅ Feather: 5 (размытие краев маски)\")\n",
        "print(\"   ✅ Dilation: 0 (без расширения маски)\")"
      ],
      "metadata": {
        "colab": {
          "base_uri": "https://localhost:8080/"
        },
        "id": "aVFXS1zuIHtd",
        "outputId": "ed07bfba-6805-44cb-b552-b9c00d30dd56"
      },
      "execution_count": null,
      "outputs": [
        {
          "output_type": "stream",
          "name": "stdout",
          "text": [
            "🎭 Создание оптимизированного workflow с маской...\n",
            "✅ Workflow с маской создан: hyperrealistic_face_masked_workflow.json\n",
            "🎭 Ключевые особенности:\n",
            "   ✅ Использует UltralyticsDetectorProvider\n",
            "   ✅ Использует SegsDetailer для точной маски\n",
            "   ✅ Denoise: 0.02 (минимальный)\n",
            "   ✅ LoRA strength: 0.05 (минимальный)\n",
            "   ✅ Feather: 5 (размытие краев маски)\n",
            "   ✅ Dilation: 0 (без расширения маски)\n"
          ]
        }
      ]
    },
    {
      "cell_type": "code",
      "source": [
        "from pyngrok import ngrok\n",
        "print(\"�� Запуск ngrok...\")\n",
        "ngrok.kill()\n",
        "time.sleep(2)\n",
        "public_url = ngrok.connect(8188)\n",
        "print(f\"✅ Ngrok подключен!\")\n",
        "print(f\"🌐 Внешний доступ: {public_url}\")"
      ],
      "metadata": {
        "colab": {
          "base_uri": "https://localhost:8080/"
        },
        "id": "L71k6hvvPMyt",
        "outputId": "3490c2c5-6914-4446-ef49-5563f538c325"
      },
      "execution_count": null,
      "outputs": [
        {
          "output_type": "stream",
          "name": "stdout",
          "text": [
            "�� Запуск ngrok...\n",
            "✅ Ngrok подключен!\n",
            "🌐 Внешний доступ: NgrokTunnel: \"https://f1daf72369cf.ngrok-free.app\" -> \"http://localhost:8188\"\n"
          ]
        }
      ]
    }
  ]
}